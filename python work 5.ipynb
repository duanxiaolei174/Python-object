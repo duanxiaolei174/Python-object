{
 "cells": [
  {
   "cell_type": "code",
   "execution_count": 3,
   "metadata": {},
   "outputs": [
    {
     "name": "stdout",
     "output_type": "stream",
     "text": [
      "7500.0\n"
     ]
    }
   ],
   "source": [
    "class Account(object):\n",
    "    def __init__(self,id = 0,balance = 100,annuallnteresterRate = 0):\n",
    "        self._id = id\n",
    "        self._balance = balance\n",
    "        self._annuallnteresterRate = annuallnteresterRate\n",
    "    @property\n",
    "    def id(self):\n",
    "        return self._id\n",
    "    @id.setter\n",
    "    def id(self,new_id):\n",
    "        self._id = new_id\n",
    "    @property\n",
    "    def balance (self):\n",
    "        return self._balance\n",
    "    @balance.setter\n",
    "    def balance(self,new_balance):\n",
    "        self._balance = new_balance\n",
    "    @property\n",
    "    def annuallnteresterRate(self):\n",
    "        return self._annuallnteresterRate\n",
    "    def annuallnteresterRate(self,new_annuallnteresterRate):\n",
    "        self._annuallnteresterRate = new_annuallnteresterRate\n",
    "    def getMonthlyInterestRate(self):\n",
    "        return new_annuallnteresterRate/12/100\n",
    "    def getMonthlyInterest(self):\n",
    "        return self._balance*self._annuallnteresterRate/12\n",
    "        \n",
    "    def withdraw(self,money):\n",
    "        if self._balance>= money:\n",
    "            self._balance -= money\n",
    "        else:\n",
    "            print('余额不足')\n",
    "        \n",
    "    def deposit(self,money):\n",
    "        self._balance += money\n",
    "\n",
    "if __name__ == \"__main__\":\n",
    "    account = Account(id = 1122,balance = 20000,annuallnteresterRate = 4.5)\n",
    "    print(account.getMonthlyInterest())"
   ]
  },
  {
   "cell_type": "code",
   "execution_count": 4,
   "metadata": {},
   "outputs": [],
   "source": [
    "class Fan(object):\n",
    "    def __init__(self,speed = 1,on = False,radius = 5,color = 'blue'):\n",
    "        self._speed = speed\n",
    "        self._on = on\n",
    "        self._radius = radius\n",
    "        self._color = color\n",
    "    @property\n",
    "    def speed(self):\n",
    "        return self._speed\n",
    "    @speed.setter\n",
    "    def speed(self,new_speed):\n",
    "        new_speed = self._speed\n",
    "    @property\n",
    "    def on(self):\n",
    "        return self._on\n",
    "    @on.setter\n",
    "    def on(self,new_on):\n",
    "        new_on = self._on\n",
    "    @property\n",
    "    def radius(self):\n",
    "        return self._radius\n",
    "    @radius.setter\n",
    "    def radius(self,new_radius):\n",
    "        new_radius = self._radius\n",
    "    @property\n",
    "    def color(self):\n",
    "        return self._color\n",
    "    @color.setter\n",
    "    def color(self,new_color):\n",
    "        new_color = self._color\n",
    "    def test():\n",
    "        print(self._speed,self._on,self._radius,self._color)\n",
    "    if __init__ == \"__main\":\n",
    "        fan = Fan(speed = 3,on = False,radius = 10,color = yellow)\n",
    "        print(fan.test())"
   ]
  },
  {
   "cell_type": "code",
   "execution_count": 5,
   "metadata": {},
   "outputs": [
    {
     "name": "stdout",
     "output_type": "stream",
     "text": [
      "40\n",
      "12.989745035699281\n"
     ]
    }
   ],
   "source": [
    "import math\n",
    "\n",
    "class RegularPolygon(object):\n",
    "    def __init__ (self,n = 3,side = 1,x = 0,y = 0):\n",
    "        self._n = n\n",
    "        self._side = side\n",
    "        self._x = x\n",
    "        self._y = y\n",
    "    def getPerimeter(self):\n",
    "        C = self._n*self._side\n",
    "        return C\n",
    "    def getArea(self):\n",
    "        A = (self._n*(self._side**2))/4*math.tan(3.14/self._n)\n",
    "        return A\n",
    "if __name__ == \"__main__\":\n",
    "    R = RegularPolygon(n = 10,side = 4,x = 5.6,y = 7.8)\n",
    "    print(R.getPerimeter())\n",
    "    print(R.getArea())\n"
   ]
  },
  {
   "cell_type": "code",
   "execution_count": 6,
   "metadata": {},
   "outputs": [
    {
     "name": "stdout",
     "output_type": "stream",
     "text": [
      "输入a的值1\n",
      "输入b的值2\n",
      "输入c的值3\n",
      "输入d的值4\n",
      "输入e的值5\n",
      "输入f的值6\n",
      "-4.0\n",
      "4.5\n"
     ]
    }
   ],
   "source": [
    "class LinearEquation(object):\n",
    "    def __init__(self,a,b,c,d,e,f):\n",
    "        self._a = a\n",
    "        self._b = b\n",
    "        self._c = c\n",
    "        self._d = d\n",
    "        self._e = e\n",
    "        self._f = f\n",
    "    def geta(self):\n",
    "        self._a = eval(input('输入a的值'))\n",
    "    def getb(self):\n",
    "        self._b = eval(input('输入b的值'))\n",
    "    def getc(self):\n",
    "        self._c = eval(input('输入c的值'))\n",
    "    def getd(self):\n",
    "        self._d = eval(input('输入d的值'))\n",
    "    def gete(self):\n",
    "        self._e = eval(input('输入e的值'))\n",
    "    def getf(self):\n",
    "        self._f = eval(input('输入f的值'))\n",
    "\n",
    "    def isSolvable(self):\n",
    "        if self._a*self._d-self._b*self._c != 0:\n",
    "            print(True)\n",
    "        else:\n",
    "            print('这个方程无法运行')\n",
    "    def getX(self):\n",
    "        x = (self._e*self._d-self._b*self._f)/(self._a*self._d-self._b*self._c)\n",
    "        return x\n",
    "    def getY(self):\n",
    "        y = (self._a*self._f-self._e*self._c)/(self._a*self._d-self._b*self._c)\n",
    "        return y\n",
    "if __name__ == \"__main__\":\n",
    "    le = LinearEquation(a = 0,b = 0,c = 0,d = 0,e = 0,f = 0)\n",
    "    le.geta()\n",
    "    le.getb()\n",
    "    le.getc()\n",
    "    le.getd()\n",
    "    le.gete()\n",
    "    le.getf()\n",
    "    print(le.getX())\n",
    "    print(le.getY())"
   ]
  },
  {
   "cell_type": "code",
   "execution_count": null,
   "metadata": {},
   "outputs": [],
   "source": []
  }
 ],
 "metadata": {
  "kernelspec": {
   "display_name": "Python 3",
   "language": "python",
   "name": "python3"
  },
  "language_info": {
   "codemirror_mode": {
    "name": "ipython",
    "version": 3
   },
   "file_extension": ".py",
   "mimetype": "text/x-python",
   "name": "python",
   "nbconvert_exporter": "python",
   "pygments_lexer": "ipython3",
   "version": "3.6.4"
  }
 },
 "nbformat": 4,
 "nbformat_minor": 2
}
