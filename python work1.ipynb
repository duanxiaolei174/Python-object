{
 "cells": [
  {
   "cell_type": "code",
   "execution_count": 1,
   "metadata": {},
   "outputs": [
    {
     "name": "stdout",
     "output_type": "stream",
     "text": [
      "请输入摄氏温度：78.6\n",
      "173.48\n"
     ]
    }
   ],
   "source": [
    "#将摄氏温度转化为华氏摄氏度\n",
    "c = float(input('请输入摄氏温度：'))\n",
    "f = ( 9 / 5 ) * c + 32\n",
    "print(f)"
   ]
  },
  {
   "cell_type": "code",
   "execution_count": 19,
   "metadata": {},
   "outputs": [
    {
     "name": "stdout",
     "output_type": "stream",
     "text": [
      "请输入半径：2\n",
      "请输入高：4\n",
      "50.26548245743669\n"
     ]
    }
   ],
   "source": [
    "#计算圆柱体的体积\n",
    "import math\n",
    "r = int(input(\"请输入半径：\"))\n",
    "h = int(input(\"请输入高：\"))\n",
    "V = math.pi*(r**2)*h\n",
    "print(V)"
   ]
  },
  {
   "cell_type": "code",
   "execution_count": 15,
   "metadata": {},
   "outputs": [
    {
     "name": "stdout",
     "output_type": "stream",
     "text": [
      "请输入长度:10\n",
      "请输入单位：米\n",
      "单位不对\n"
     ]
    }
   ],
   "source": [
    "ft = eval(input(\"请输入长度:\"))\n",
    "dw = input(\"请输入单位：\")\n",
    "if dw == \"英尺\":\n",
    "    m = ft*0.305\n",
    "    print(m)\n",
    "else:\n",
    "    print('单位不对')"
   ]
  },
  {
   "cell_type": "code",
   "execution_count": 16,
   "metadata": {},
   "outputs": [
    {
     "name": "stdout",
     "output_type": "stream",
     "text": [
      "以kg为单位水的重量为:10\n",
      "请输入单位:kg\n",
      "初始温度:0\n",
      "最终温度:100\n",
      "4148000\n"
     ]
    }
   ],
   "source": [
    "witer = eval(input(\"水的重量为:\"))\n",
    "dan = input(\"请输入单位:\")\n",
    "T = eval(input(\"初始温度:\"))\n",
    "FinallT = eval(input(\"最终温度:\"))\n",
    "if dan == 'kg':\n",
    "    Q = witer * (FinallT - T)*4148\n",
    "    print(Q)\n",
    "else:\n",
    "    print(\"单位错误\")"
   ]
  },
  {
   "cell_type": "code",
   "execution_count": 12,
   "metadata": {},
   "outputs": [
    {
     "name": "stdout",
     "output_type": "stream",
     "text": [
      "差额：10\n",
      "年利率:0.2\n",
      "0.001666666666666667\n"
     ]
    }
   ],
   "source": [
    "cha = eval(input(\"差额：\"))\n",
    "lilv = eval(input(\"年利率:\"))\n",
    "lixi = cha*(lilv/1200)\n",
    "print(lixi)"
   ]
  },
  {
   "cell_type": "code",
   "execution_count": 13,
   "metadata": {},
   "outputs": [
    {
     "name": "stdout",
     "output_type": "stream",
     "text": [
      "初始速度m/s:20\n",
      "末速度m/s:60\n",
      "时间s:3\n",
      "13.333333333333334\n"
     ]
    }
   ],
   "source": [
    "v0 = eval(input(\"初始速度m/s:\"))\n",
    "v1 = eval(input(\"末速度m/s:\"))\n",
    "t = eval(input(\"时间s:\"))\n",
    "a = (v1-v0)/t\n",
    "print(a)"
   ]
  },
  {
   "cell_type": "code",
   "execution_count": 15,
   "metadata": {},
   "outputs": [
    {
     "name": "stdout",
     "output_type": "stream",
     "text": [
      "存入:100\n",
      "608.8181155768638\n"
     ]
    }
   ],
   "source": [
    "first = eval(input(\"存入:\"))\n",
    "one = first*(1+0.00417)\n",
    "two = (first+one)*(1+0.00417)\n",
    "three = (first+two)*(1+0.00417)\n",
    "four = (first+three)*(1+0.00417)\n",
    "five = (first+four)*(1+0.00417)\n",
    "six = (first+five)*(1+0.00417)\n",
    "print(six)"
   ]
  },
  {
   "cell_type": "code",
   "execution_count": 20,
   "metadata": {},
   "outputs": [
    {
     "name": "stdout",
     "output_type": "stream",
     "text": [
      "请输入一个数:100\n",
      "1\n"
     ]
    }
   ],
   "source": [
    "num = input(\"请输入一个数:\")\n",
    "if len(num) > 3:\n",
    "    print(\"输入0-1000的数\")\n",
    "else:\n",
    "    bai = int(num[0])\n",
    "    shi = int(num[1])\n",
    "    ge = int(num[2])\n",
    "    he = bai+shi+ge\n",
    "    print(he)"
   ]
  },
  {
   "cell_type": "markdown",
   "metadata": {},
   "source": [
    "身份验证"
   ]
  },
  {
   "cell_type": "code",
   "execution_count": 1,
   "metadata": {},
   "outputs": [
    {
     "name": "stdout",
     "output_type": "stream",
     "text": [
      "输入用户名：28560@163.com\n",
      "输入密码：123456\n",
      "登陆成功\n"
     ]
    }
   ],
   "source": [
    "#登陆界面\n",
    "import random\n",
    "count = 0\n",
    "for i in range(4):\n",
    "    user = input(\"输入用户名：\")\n",
    "    if '@163.com' not in user:#查看格式是否正确\n",
    "        print('账号格式不正确')\n",
    "        input('请输入正确的账户：')\n",
    "    password = input(\"输入密码：\")\n",
    "    if user == '28560@163.com' and password =='123456':\n",
    "        print(\"登陆成功\")\n",
    "        break\n",
    "    else:\n",
    "        print(\"用户名或密码不正确\")\n",
    "        yzm = (random.randint(1000,9999))\n",
    "        print(yzm)\n",
    "        yzm_1 = int(input('请输入验证码:'))\n",
    "    for a in range(4):\n",
    "        if yzm == yzm_1:\n",
    "            print('验证码正确')\n",
    "            break\n",
    "        else:\n",
    "            print('验证码输入有误')\n",
    "            input('请在此输入')\n",
    "count+=1\n",
    "if count == 4:\n",
    "    print(\"请持有效证件办理\")"
   ]
  },
  {
   "cell_type": "code",
   "execution_count": 12,
   "metadata": {},
   "outputs": [
    {
     "name": "stdout",
     "output_type": "stream",
     "text": [
      "邮箱为：256@163.com\n",
      "MD5加密前为 ：256@163.com\n",
      "MD5加密后为 ：fd6e64d6403fab93774a4569b0c114e5\n"
     ]
    }
   ],
   "source": [
    " #md5加密\n",
    "import hashlib\n",
    "emile = input('邮箱为：')\n",
    "hl = hashlib.md5()\n",
    "hl.update(emile.encode(encoding='utf-8'))\n",
    "print('MD5加密前为 ：' + emile)\n",
    "print('MD5加密后为 ：' + hl.hexdigest())"
   ]
  },
  {
   "cell_type": "code",
   "execution_count": 4,
   "metadata": {},
   "outputs": [
    {
     "name": "stdout",
     "output_type": "stream",
     "text": [
      "邮箱为：28560@qq.com\n",
      "<B?@:J{{8myw"
     ]
    }
   ],
   "source": [
    "#邮箱加密\n",
    "emile = input('邮箱为：')\n",
    "for i in emile:\n",
    "    #print(i)\n",
    "    ord_1 = ord(i)+10\n",
    "    chr_1= chr(ord_1)\n",
    "    print(chr_1,end = \"\")"
   ]
  },
  {
   "cell_type": "code",
   "execution_count": 5,
   "metadata": {},
   "outputs": [
    {
     "name": "stdout",
     "output_type": "stream",
     "text": [
      "a=10\n",
      "b=20\n",
      "30\n",
      "-10\n",
      "200\n",
      "0.5\n",
      "10\n"
     ]
    }
   ],
   "source": [
    "a = int(input('a='))\n",
    "b = int(input('b='))\n",
    "print(a+b)\n",
    "print(a-b)\n",
    "print(a*b)\n",
    "print(a/b)\n",
    "print(a%b)"
   ]
  },
  {
   "cell_type": "code",
   "execution_count": 7,
   "metadata": {},
   "outputs": [
    {
     "name": "stdout",
     "output_type": "stream",
     "text": [
      "href=\"http://baijiahao.baidu.com/s?id=1641806920856311184\"\n",
      "href=\"http://baijiahao.baidu.com/s?id=1641801134242707690\"\n",
      "href=\"http://baijiahao.baidu.com/s?id=1641804985134705772\"\n",
      "href=\"http://baijiahao.baidu.com/s?id=1641795161667151424\"\n",
      "href=\"http://baijiahao.baidu.com/s?id=1641759706552362036\"\n"
     ]
    }
   ],
   "source": [
    "import re\n",
    "url = []\n",
    "a = '<li><a href=\"http://baijiahao.baidu.com/s?id=1641806920856311184\" target=\"_blank\" mon=\"a=9\">蔡崇信共23.5亿全资收购篮网</a></li>'\n",
    "b = '<li><a href=\"http://baijiahao.baidu.com/s?id=1641801134242707690\" target=\"_blank\" mon=\"a=9\">美国禁止部分苹果MacBook Pro登机</a></li>'\n",
    "c = '<li><a href=\"http://baijiahao.baidu.com/s?id=1641804985134705772\" target=\"_blank\" mon=\"a=9\">高通董事会任命马克·麦克劳克林为董事长</a></li>'\n",
    "d = '<li><a href=\"http://baijiahao.baidu.com/s?id=1641795161667151424\" target=\"_blank\" mon=\"a=9\">硅谷巨头将参加美政府听证会 反对数字税</a></li>'\n",
    "e = '<li><a href=\"http://baijiahao.baidu.com/s?id=1641759706552362036\" target=\"_blank\" mon=\"a=9\">5G手机“铺货” 用户却仍在观望</a></li>'\n",
    "url.append(a)\n",
    "url.append(b)\n",
    "url.append(c)\n",
    "url.append(d)\n",
    "url.append(e)\n",
    "for i in url:\n",
    "    #a = i.split(\"=\")[1]\n",
    "    b = i.split(' ')[1]\n",
    "    #c = b.split('=')[1]\n",
    "    print(b)\n",
    "    # print(i.split(\"=\")[1].split(\" \")[0])\n",
    "    #print(i)"
   ]
  },
  {
   "cell_type": "markdown",
   "metadata": {},
   "source": [
    "随机数"
   ]
  },
  {
   "cell_type": "code",
   "execution_count": 8,
   "metadata": {},
   "outputs": [
    {
     "name": "stdout",
     "output_type": "stream",
     "text": [
      "4\n",
      "8\n",
      "请输入一个数12\n",
      "100分\n",
      "3\n",
      "5\n",
      "请输入一个数8\n",
      "100分\n",
      "1\n",
      "10\n",
      "请输入一个数11\n",
      "100分\n",
      "2\n",
      "0\n",
      "请输入一个数2\n",
      "100分\n",
      "6\n",
      "7\n",
      "请输入一个数13\n",
      "100分\n",
      "9\n",
      "10\n",
      "请输入一个数19\n",
      "100分\n",
      "5\n",
      "4\n",
      "请输入一个数9\n",
      "100分\n",
      "3\n",
      "8\n",
      "请输入一个数11\n",
      "100分\n",
      "10\n",
      "2\n",
      "请输入一个数12\n",
      "100分\n",
      "8\n",
      "0\n",
      "请输入一个数8\n",
      "100分\n",
      "进行第二关\n"
     ]
    }
   ],
   "source": [
    "import random\n",
    "count = 0\n",
    "for i in range(10):\n",
    "    num_1 = random.randint(0,10)\n",
    "    print(num_1)\n",
    "    num_2 = random.randint(0,10)\n",
    "    print(num_2)\n",
    "    num_put = int(input('请输入一个数'))\n",
    "    if num_put == num_1+num_2:\n",
    "        count += 100\n",
    "        print('100分')\n",
    "    else:\n",
    "        print('Game Over')\n",
    "if count == 1000:\n",
    "    print('进行第二关')\n",
    "else:\n",
    "    print('Game over')\n"
   ]
  },
  {
   "cell_type": "code",
   "execution_count": 9,
   "metadata": {},
   "outputs": [
    {
     "name": "stdout",
     "output_type": "stream",
     "text": [
      "请出拳 石头（0）;剪刀（1）;布（2）0\n",
      "2\n",
      "电脑赢了\n",
      "请出拳 石头（0）;剪刀（1）;布（2）2\n",
      "1\n",
      "电脑赢了\n",
      "请出拳 石头（0）;剪刀（1）;布（2）1\n",
      "0\n",
      "电脑赢了\n",
      "请出拳 石头（0）;剪刀（1）;布（2）04\n",
      "0\n",
      "电脑赢了\n",
      "请出拳 石头（0）;剪刀（1）;布（2）2\n",
      "0\n",
      "电脑输了\n",
      "请出拳 石头（0）;剪刀（1）;布（2）2\n",
      "0\n",
      "电脑输了\n",
      "请出拳 石头（0）;剪刀（1）;布（2）2\n",
      "0\n",
      "电脑输了\n",
      "请出拳 石头（0）;剪刀（1）;布（2）2\n",
      "1\n",
      "电脑赢了\n",
      "请出拳 石头（0）;剪刀（1）;布（2）2\n",
      "0\n",
      "电脑输了\n",
      "请出拳 石头（0）;剪刀（1）;布（2）2\n",
      "1\n",
      "电脑赢了\n"
     ]
    }
   ],
   "source": [
    "for i in range(10):#一次游戏进行十次\n",
    "    player = int(input(\"请出拳 石头（0）;剪刀（1）;布（2）\"))\n",
    "    computer = random.randint(0,2)#电脑随机出\n",
    "    print(computer)\n",
    "    if (player == 0 and computer == 1)or(player ==1 and computer == 2 )or(player ==2 and computer == 0) :\n",
    "        print ('电脑输了')\n",
    "    elif player == computer:#平局\n",
    "        print('友好')\n",
    "    else:\n",
    "        print('电脑赢了')"
   ]
  },
  {
   "cell_type": "markdown",
   "metadata": {},
   "source": [
    "输入三条边长如果能构成三角形就计算周长和面积"
   ]
  },
  {
   "cell_type": "code",
   "execution_count": 18,
   "metadata": {},
   "outputs": [
    {
     "name": "stdout",
     "output_type": "stream",
     "text": [
      "c = 3\n",
      "b = 4\n",
      "z = 5\n",
      "周长为 12.0\n"
     ]
    }
   ],
   "source": [
    "c = float(input('c = '))\n",
    "w = float(input('b = '))\n",
    "z = float(input('z = '))\n",
    "if c+w>z and w+z>c and c+z>w:\n",
    "    C = c+w+z\n",
    "    print(\"周长为\",C)\n",
    "else:\n",
    "    print(\"不能构成三角形\")"
   ]
  },
  {
   "cell_type": "markdown",
   "metadata": {},
   "source": [
    "输入年份判断是不是闰年。"
   ]
  },
  {
   "cell_type": "code",
   "execution_count": 20,
   "metadata": {},
   "outputs": [
    {
     "name": "stdout",
     "output_type": "stream",
     "text": [
      "请输入年份:2019\n",
      "False\n"
     ]
    }
   ],
   "source": [
    "year = int(input(\"请输入年份:\"))\n",
    "a = (year%4 == 0 and year%100 != 0 and year%400 ==0) \n",
    "print(a)"
   ]
  },
  {
   "cell_type": "code",
   "execution_count": null,
   "metadata": {},
   "outputs": [],
   "source": []
  }
 ],
 "metadata": {
  "kernelspec": {
   "display_name": "Python 3",
   "language": "python",
   "name": "python3"
  },
  "language_info": {
   "codemirror_mode": {
    "name": "ipython",
    "version": 3
   },
   "file_extension": ".py",
   "mimetype": "text/x-python",
   "name": "python",
   "nbconvert_exporter": "python",
   "pygments_lexer": "ipython3",
   "version": "3.6.4"
  }
 },
 "nbformat": 4,
 "nbformat_minor": 2
}
