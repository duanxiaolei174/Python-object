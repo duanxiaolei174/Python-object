{
 "cells": [
  {
   "cell_type": "code",
   "execution_count": 7,
   "metadata": {},
   "outputs": [
    {
     "name": "stdout",
     "output_type": "stream",
     "text": [
      "请输入a的值：1\n",
      "请输入b的值：3\n",
      "请输入c的值：1\n",
      "-2.618033988749895 and -0.3819660112501051\n"
     ]
    }
   ],
   "source": [
    "#解一元二次方程\n",
    "def zhi(a,b,c):\n",
    "    d = b ** 2 -4*a*c\n",
    "    if d >0:\n",
    "        e = (b*(-1)-(d**(1/2)))/2*a\n",
    "        f = (b*(-1)+(d**(1/2)))/2*a\n",
    "        print(e,'and',f)\n",
    "    elif d == 0:\n",
    "        g = (b*(-1)-(d**(1/2)))/2*a\n",
    "        print(g)\n",
    "    else:\n",
    "        print('此方程无实根')\n",
    "def sart():\n",
    "    a = eval(input('请输入a的值：'))\n",
    "    b = eval(input('请输入b的值：'))\n",
    "    c = eval(input('请输入c的值：'))\n",
    "    zhi(a,b,c)\n",
    "    \n",
    "sart()\n",
    "    "
   ]
  },
  {
   "cell_type": "code",
   "execution_count": 15,
   "metadata": {},
   "outputs": [
    {
     "name": "stdout",
     "output_type": "stream",
     "text": [
      "54 39\n",
      "请输入得数：93\n",
      "程序结果正确\n"
     ]
    }
   ],
   "source": [
    "#学习加法\n",
    "import random\n",
    "def shu(num_1,num_2):\n",
    "    ds = eval(input('请输入得数：'))\n",
    "    if ds == num_1+num_2:\n",
    "        print('程序结果正确')\n",
    "    else:\n",
    "        print('程序结果错误')\n",
    "def sart():\n",
    "    num_1 = random.randint(0,100)\n",
    "    num_2 = random.randint(0,100)\n",
    "    print(num_1,num_2)\n",
    "    shu(num_1,num_2)\n",
    "sart()"
   ]
  },
  {
   "cell_type": "code",
   "execution_count": 42,
   "metadata": {},
   "outputs": [
    {
     "name": "stdout",
     "output_type": "stream",
     "text": [
      "请输入今天是哪一天：3\n",
      "输入到哪天的天数2\n",
      "星期三\n",
      "星期五\n"
     ]
    }
   ],
   "source": [
    "#找未来数据\n",
    "def week(day):\n",
    "    \n",
    "    if day == 0:\n",
    "        print('星期日')\n",
    "    elif day == 1:\n",
    "        print('星期一')\n",
    "    elif day == 2:\n",
    "        print('星期二')\n",
    "    elif day == 3:\n",
    "        print('星期三')\n",
    "    elif day == 4:\n",
    "        print('星期四')\n",
    "    elif day == 5:\n",
    "        print('星期五')\n",
    "    elif day == 6:\n",
    "        print('星期六')\n",
    "        \n",
    "def today(day,day_1):\n",
    "    day_2 = day+day_1\n",
    "    if day_2>=7:\n",
    "        day_3 = (day_2)%7\n",
    "        week(day_3)\n",
    "    else:\n",
    "        week(day_2)\n",
    "    \n",
    "def sart():\n",
    "    day = eval(input('请输入今天是哪一天：'))\n",
    "    day_1 = eval(input('输入到哪天的天数'))\n",
    "    week(day)\n",
    "    today(day,day_1)\n",
    "sart()"
   ]
  },
  {
   "cell_type": "code",
   "execution_count": 7,
   "metadata": {},
   "outputs": [
    {
     "name": "stdout",
     "output_type": "stream",
     "text": [
      "请输入第一个数：3\n",
      "请输入第二个数：2\n",
      "请输入第三个数：1\n",
      "[1, 2, 3]\n"
     ]
    }
   ],
   "source": [
    "def zs(a,b,c):\n",
    "    list = []\n",
    "    list.append(a)\n",
    "    list.append(b)\n",
    "    list.append(c)\n",
    "    #print(list)\n",
    "    #list.sort()\n",
    "    for i in range(len(list)-1):\n",
    "        for j in range(i+1,len(list)):\n",
    "            if list[i]>list[j]:\n",
    "                t = list[i]\n",
    "                list[i] = list[j]\n",
    "                list[j] = t\n",
    "    print(list)\n",
    "        \n",
    "def star():\n",
    "    a = int(input('请输入第一个数：'))\n",
    "    b = int(input('请输入第二个数：'))\n",
    "    c = int(input('请输入第三个数：'))\n",
    "    zs(a,b,c)\n",
    "star()"
   ]
  },
  {
   "cell_type": "code",
   "execution_count": 9,
   "metadata": {},
   "outputs": [
    {
     "name": "stdout",
     "output_type": "stream",
     "text": [
      "请输入重量1：50\n",
      "请输入价格1:24.59\n",
      "请输入重量2：25\n",
      "请输入价格2:11.99\n",
      "第二个包装好\n"
     ]
    }
   ],
   "source": [
    "def bj(weight_1,price_1,weight_2,price_2):\n",
    "    xjb_1 = weight_1/price_1\n",
    "    xjb_2 = weight_2/price_2\n",
    "    if xjb_1>xjb_2:\n",
    "        print('第一个包装好')\n",
    "    else:\n",
    "        print('第二个包装好')\n",
    "def star():\n",
    "    weight_1 = eval(input('请输入重量1：'))\n",
    "    price_1 = eval(input('请输入价格1:'))\n",
    "    weight_2 = eval(input('请输入重量2：'))\n",
    "    price_2 = eval(input('请输入价格2:'))\n",
    "    bj(weight_1,price_1,weight_2,price_2)\n",
    "star()"
   ]
  },
  {
   "cell_type": "code",
   "execution_count": 12,
   "metadata": {},
   "outputs": [
    {
     "name": "stdout",
     "output_type": "stream",
     "text": [
      "请输入年份:2008\n",
      "请输入月份：2\n",
      "2008 年 2 月有29天\n"
     ]
    }
   ],
   "source": [
    "def rn(year,month):\n",
    "    a = (year%4 == 0 and year%100 != 0 and year%400 ==0)\n",
    "    \n",
    "    if a == 0:\n",
    "        if month == 1 :\n",
    "            print(year,'年',month,'月有30天',)\n",
    "        elif month == 2 :\n",
    "            print(year,'年',month,'月有29天',)\n",
    "        elif month == 3 :\n",
    "            print(year,'年',month,'月有30天',)\n",
    "        elif month == 4 :\n",
    "            print(year,'年',month,'月有31天',)\n",
    "        elif month == 5 :\n",
    "            print(year,'年',month,'月有30天',)\n",
    "        elif month == 6 :\n",
    "            print(year,'年',month,'月有31天',)\n",
    "        elif month == 7 :\n",
    "            print(year,'年',month,'月有30天',)\n",
    "        elif month == 8 :\n",
    "            print(year,'年',month,'月有30天',)\n",
    "        elif month == 9 :\n",
    "            print(year,'年',month,'月有31天',)\n",
    "        elif month == 10 :\n",
    "            print(year,'年',month,'月有30天',)\n",
    "        elif month == 11 :\n",
    "            print(year,'年',month,'月有31天',)\n",
    "        elif month == 12 :\n",
    "            print(year,'年',month,'月有30天',)\n",
    "    else:\n",
    "        if month == 1 :\n",
    "            print(year,'年',month,'月有30天',)\n",
    "        elif month == 2 :\n",
    "            print(year,'年',month,'月有28天',)\n",
    "        elif month == 3 :\n",
    "            print(year,'年',month,'月有30天',)\n",
    "        elif month == 4 :\n",
    "            print(year,'年',month,'月有31天',)\n",
    "        elif month == 5 :\n",
    "            print(year,'年',month,'月有30天',)\n",
    "        elif month == 6 :\n",
    "            print(year,'年',month,'月有31天',)\n",
    "        elif month == 7 :\n",
    "            print(year,'年',month,'月有30天',)\n",
    "        elif month == 8 :\n",
    "            print(year,'年',month,'月有30天',)\n",
    "        elif month == 9 :\n",
    "            print(year,'年',month,'月有31天',)\n",
    "        elif month == 10 :\n",
    "            print(year,'年',month,'月有30天',)\n",
    "        elif month == 11 :\n",
    "            print(year,'年',month,'月有31天',)\n",
    "        elif month == 12 :\n",
    "            print(year,'年',month,'月有30天',)\n",
    "def star():\n",
    "    year= int(input(\"请输入年份:\"))\n",
    "    month = int(input('请输入月份：'))\n",
    "    rn(year,month)\n",
    "star()"
   ]
  },
  {
   "cell_type": "code",
   "execution_count": null,
   "metadata": {},
   "outputs": [],
   "source": [
    "import random\n",
    "def guess(res):\n",
    "    a = random.choices(['正面','反面'])\n",
    "    print(a)\n",
    "    if a == res :\n",
    "        print('猜测正确')\n",
    "    else:\n",
    "        print('猜测不正确')\n",
    "def star():\n",
    "    res = str(input('请输入一个猜测值：'))\n",
    "    guess(res)\n",
    "star()"
   ]
  },
  {
   "cell_type": "code",
   "execution_count": 19,
   "metadata": {},
   "outputs": [
    {
     "name": "stdout",
     "output_type": "stream",
     "text": [
      "请出拳 石头（0）;剪刀（1）;布（2）2\n",
      "友好\n"
     ]
    }
   ],
   "source": [
    "import random\n",
    "def yx(player):\n",
    "    computer = random.randint(0,2)#电脑随机出\n",
    "    if (player == 0 and computer == 1)or(player ==1 and computer == 2 )or(player ==2 and computer == 0) :\n",
    "        print ('电脑输了')\n",
    "    elif player == computer:#平局\n",
    "        print('友好')\n",
    "    else:\n",
    "        print('电脑赢了')\n",
    "def star():\n",
    "    player = int(input(\"请出拳 石头（0）;剪刀（1）;布（2）\"))\n",
    "    yx(player)\n",
    "star()\n",
    "    "
   ]
  },
  {
   "cell_type": "code",
   "execution_count": 64,
   "metadata": {},
   "outputs": [
    {
     "ename": "SyntaxError",
     "evalue": "invalid syntax (<ipython-input-64-3015eb737932>, line 6)",
     "output_type": "error",
     "traceback": [
      "\u001b[1;36m  File \u001b[1;32m\"<ipython-input-64-3015eb737932>\"\u001b[1;36m, line \u001b[1;32m6\u001b[0m\n\u001b[1;33m    n = (((y/100)//1)/4)//1\u001b[0m\n\u001b[1;37m    ^\u001b[0m\n\u001b[1;31mSyntaxError\u001b[0m\u001b[1;31m:\u001b[0m invalid syntax\n"
     ]
    }
   ],
   "source": [
    "def weekday(y,m,q):\n",
    "    k = y%100\n",
    "    j = (y/100)//1\n",
    "    l = (((26*(m+1))/10)//1\n",
    "#     o = ((y%100)/4)//1\n",
    "    n = (((y/100)//1)/4)//1\n",
    "         \n",
    "    h = (q+l+k+o+n+5*j)%7\n",
    "    print(h)  \n",
    "def star():\n",
    "    y = eval(input('请输入年份：'))\n",
    "    m = eval(input('请输入月份：'))\n",
    "    q = eval(input('请输入哪一天：'))\n",
    "    weekday(y,m,q)\n",
    "star()"
   ]
  },
  {
   "cell_type": "code",
   "execution_count": 35,
   "metadata": {},
   "outputs": [
    {
     "name": "stdout",
     "output_type": "stream",
     "text": [
      "The card you picked is the 8 of ['方块']\n"
     ]
    }
   ],
   "source": [
    "import random\n",
    "def pkp():\n",
    "   # a = ['ace','2','3','4','5','6','7','8','9','10','jack','queen','king']\n",
    "    a = random.choice(['ace','2','3','4','5','6','7','8','9','10','jack','queen','king'])\n",
    "    b = random.choices(['梅花''红桃','方块','黑桃'])\n",
    "    print('The card you picked is the',a,'of',b)\n",
    "def star():\n",
    "    pkp()\n",
    "star()"
   ]
  },
  {
   "cell_type": "code",
   "execution_count": 31,
   "metadata": {},
   "outputs": [
    {
     "name": "stdout",
     "output_type": "stream",
     "text": [
      "请输入一个三位数：121\n",
      "这是一个回文数\n"
     ]
    }
   ],
   "source": [
    "def shu(num):\n",
    "    if num == num[::-1]:\n",
    "        print('这是一个回文数')\n",
    "    else:\n",
    "        print('这不是一个回文数')\n",
    "def star():\n",
    "    num = input('请输入一个三位数：')\n",
    "    shu(num)\n",
    "star()"
   ]
  },
  {
   "cell_type": "code",
   "execution_count": 38,
   "metadata": {},
   "outputs": [
    {
     "name": "stdout",
     "output_type": "stream",
     "text": [
      "c = 3\n",
      "b = 4\n",
      "z = 5\n",
      "这是一个三角形\n",
      "三角形周长为 12.0\n"
     ]
    }
   ],
   "source": [
    "def sjx(c,w,z):\n",
    "    if c+w>z and w+z>c and c+z>w:\n",
    "        C = c+w+z\n",
    "        print('这是一个三角形')\n",
    "        print(\"三角形周长为\",C)\n",
    "    else:\n",
    "        print(\"不能构成三角形\")\n",
    "\n",
    "def star():\n",
    "    c = float(input('c = '))\n",
    "    w = float(input('b = '))\n",
    "    z = float(input('z = '))\n",
    "    sjx(c,w,z)\n",
    "star()\n",
    "    \n"
   ]
  },
  {
   "cell_type": "markdown",
   "metadata": {},
   "source": [
    "微信 把 money 写入本地文本中"
   ]
  },
  {
   "cell_type": "code",
   "execution_count": 13,
   "metadata": {},
   "outputs": [
    {
     "name": "stdout",
     "output_type": "stream",
     "text": [
      "请输入要添加的好友：1\n",
      "余额不足请充值\n",
      "是否充值[y/n]y\n",
      "请输入充值金额100\n"
     ]
    }
   ],
   "source": [
    "m = 0\n",
    "def serch(name):\n",
    "    names = ['lxl','zjj','dxl','zcz']\n",
    "    if name not in names:\n",
    "        add()\n",
    "    else:\n",
    "        print('该好友存在于通讯录人')\n",
    "        \n",
    "def add():\n",
    "    global m\n",
    "    if m >=100:\n",
    "        print('您已经添加该好友')\n",
    "        m -= 100\n",
    "    else:\n",
    "        print('余额不足请充值')\n",
    "        res = input('是否充值[y/n]')\n",
    "        if res == 'y':\n",
    "            res1 = int(input('请输入充值金额'))\n",
    "            m +=res1\n",
    "            n = str(m)\n",
    "#             file_path = '/Users/lenovo/Desktop/money.txt'\n",
    "#             with open(file_path,'r',encoding='utf8',errors='ignore') as f: \n",
    "#                 f.write(n)\n",
    "            #add()\n",
    "        else:\n",
    "                print('不能添加')\n",
    "        \n",
    "def start():\n",
    "    name = input('请输入要添加的好友：')\n",
    "    serch(name)\n",
    "start()\n"
   ]
  },
  {
   "cell_type": "markdown",
   "metadata": {},
   "source": [
    "音乐 "
   ]
  },
  {
   "cell_type": "code",
   "execution_count": 12,
   "metadata": {},
   "outputs": [
    {
     "name": "stdout",
     "output_type": "stream",
     "text": [
      "请输入要播放哪首歌曲：1\n",
      "播放音乐1\n",
      "需要开通VIP才可以欣赏\n",
      "请输入要播放哪首歌曲：1\n",
      "播放音乐1\n",
      "需要开通VIP才可以欣赏\n",
      "请输入要播放哪首歌曲：1\n",
      "播放音乐1\n",
      "需要开通VIP才可以欣赏\n"
     ]
    }
   ],
   "source": [
    "import time\n",
    "import pygame\n",
    "list = []\n",
    "file_1 = r'C:\\Users\\lenovo\\Desktop\\muise\\薛之谦 - 绅士VIP.mp3'\n",
    "file_2 = r'C:\\Users\\lenovo\\Desktop\\muise\\薛之谦 - 这么久没见.mp3'\n",
    "file_3 = r'C:\\Users\\lenovo\\Desktop\\muise\\薛之谦 - 演员.mp3'\n",
    "list.append(file_1)\n",
    "list.append(file_2)\n",
    "list.append(file_3)\n",
    "for i in range(3):\n",
    "    a = eval(input('请输入要播放哪首歌曲：'))\n",
    "    if a == 1:\n",
    "        pygame.mixer.init()\n",
    "        print(\"播放音乐1\")\n",
    "        track = pygame.mixer.music.load(file_1)\n",
    "        if 'VIP' in file_1:\n",
    "            print('需要开通VIP才可以欣赏')\n",
    "        else:\n",
    "            pygame.mixer.music.play()\n",
    "            time.sleep(10)\n",
    "            pygame.mixer.music.stop()\n",
    "    elif a == 2:\n",
    "        pygame.mixer.init()\n",
    "        print(\"播放音乐2\")\n",
    "        track = pygame.mixer.music.load(file_2)\n",
    "        pygame.mixer.music.play()\n",
    "        time.sleep(10)\n",
    "        pygame.mixer.music.stop()\n",
    "    elif a == 3:\n",
    "        pygame.mixer.init()\n",
    "        print(\"播放音乐3\")\n",
    "        track = pygame.mixer.music.load(file_3)\n",
    "        pygame.mixer.music.play()\n",
    "        time.sleep(10)\n",
    "        pygame.mixer.music.stop()"
   ]
  },
  {
   "cell_type": "code",
   "execution_count": 18,
   "metadata": {},
   "outputs": [
    {
     "name": "stdout",
     "output_type": "stream",
     "text": [
      "数字123456\n",
      "是一个数字\n",
      "是一个数字\n",
      "是一个数字\n",
      "是一个数字\n",
      "是一个数字\n",
      "是一个数字\n"
     ]
    }
   ],
   "source": [
    "#查看多为数字\n",
    "def num(num_1):\n",
    "    for i in num_1:\n",
    "        if 48<=ord(i)<=57:\n",
    "            print('是一个数字')\n",
    "        \n",
    "def star():\n",
    "    num_1 = str(int(float(input('数字'))))\n",
    "    num(num_1)\n",
    "star()"
   ]
  },
  {
   "cell_type": "code",
   "execution_count": 1,
   "metadata": {},
   "outputs": [
    {
     "name": "stdout",
     "output_type": "stream",
     "text": [
      "请输入yes or no:yes\n",
      "恭喜您抽中 马桶车\n",
      "请充值：100\n",
      "110\n",
      "请输入yes or no:no\n",
      "欢迎下次来玩\n"
     ]
    }
   ],
   "source": [
    "import random\n",
    "list = ['尖峰车','马桶车','熊猫车','谢谢惠顾']\n",
    "m = 20\n",
    "while m > 10:\n",
    "    a = input('请输入yes or no:')\n",
    "    if a == 'yes':\n",
    "        m -=10\n",
    "        b = random.choice(list)\n",
    "        print ('恭喜您抽中',b)\n",
    "    else:\n",
    "        m == m\n",
    "        print('欢迎下次来玩')\n",
    "        break\n",
    "    if m <=10:\n",
    "        cz = eval(input('请充值：'))\n",
    "        m +=cz\n",
    "        print(m)\n",
    "    if m >= 1000:\n",
    "        print('注意游戏健康，请理性消费')"
   ]
  },
  {
   "cell_type": "code",
   "execution_count": null,
   "metadata": {},
   "outputs": [],
   "source": []
  }
 ],
 "metadata": {
  "kernelspec": {
   "display_name": "Python 3",
   "language": "python",
   "name": "python3"
  },
  "language_info": {
   "codemirror_mode": {
    "name": "ipython",
    "version": 3
   },
   "file_extension": ".py",
   "mimetype": "text/x-python",
   "name": "python",
   "nbconvert_exporter": "python",
   "pygments_lexer": "ipython3",
   "version": "3.6.4"
  }
 },
 "nbformat": 4,
 "nbformat_minor": 2
}
