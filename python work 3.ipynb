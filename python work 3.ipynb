{
 "cells": [
  {
   "cell_type": "code",
   "execution_count": 2,
   "metadata": {},
   "outputs": [
    {
     "name": "stdout",
     "output_type": "stream",
     "text": [
      "请输入一个数：50\n",
      "有 0 个负数\n",
      "有 1 个正数\n",
      "50.0\n"
     ]
    }
   ],
   "source": [
    "def shu(sum_1,sum_2,count_1,count_2):\n",
    "        print('有',count_2,'个负数')    \n",
    "        print('有',count_1,'个正数')\n",
    "        print((sum_1+sum_2)/(count_1+count_2))\n",
    "        \n",
    "def star():  \n",
    "    num_1 = 0\n",
    "    sum_1 = 0\n",
    "    sum_2 = 0\n",
    "    count_1 = 0\n",
    "    count_2 = 0\n",
    "    while num_1 != 50:\n",
    "        num_1 = eval(input(\"请输入一个数：\"))\n",
    "        if num_1>0:\n",
    "            count_1 +=1\n",
    "            sum_1 += num_1\n",
    "#             print(sum_1)\n",
    "            \n",
    "        elif num_1<0:\n",
    "            count_2 +=1\n",
    "            sum_2 += num_1\n",
    "#             print(sum_2)\n",
    "    shu(sum_1,sum_2,count_1,count_2)\n",
    "\n",
    "star()\n",
    "\n"
   ]
  },
  {
   "cell_type": "code",
   "execution_count": 21,
   "metadata": {
    "scrolled": true
   },
   "outputs": [
    {
     "name": "stdout",
     "output_type": "stream",
     "text": [
      "[10001.795856326022]\n",
      "[10001.885649142323]\n",
      "[10001.979931599439]\n",
      "[10002.078928179411]\n"
     ]
    }
   ],
   "source": [
    "# 十年学费\n",
    "def xf(fy_1):\n",
    "    sum = 0\n",
    "    list = []\n",
    "    list.append(fy_1)\n",
    "    print(list)\n",
    "#     for j in list:\n",
    "#         sum += j\n",
    "#         print(sum)\n",
    "\n",
    "\n",
    "def star():\n",
    "    fy = 10000\n",
    "    for i in range(11,15):\n",
    "        fy_1 = fy+(1+0.05)**i\n",
    "#         print(fy_1)\n",
    "        xf(fy_1)\n",
    "star()"
   ]
  },
  {
   "cell_type": "code",
   "execution_count": 32,
   "metadata": {},
   "outputs": [
    {
     "name": "stdout",
     "output_type": "stream",
     "text": [
      "17103.39358116314\n",
      "35061.95684138444\n",
      "53918.4482646168\n",
      "73717.76425901079\n"
     ]
    }
   ],
   "source": [
    "def xf(fy_1,fy_2,fy_3,fy_4):\n",
    "    sum = 0\n",
    "    list = []\n",
    "    list.append(fy_1)\n",
    "    list.append(fy_2)\n",
    "    list.append(fy_3)\n",
    "    list.append(fy_4)\n",
    "#     print(list)\n",
    "    for i in list:\n",
    "        sum += i\n",
    "        print(sum)\n",
    "def star():\n",
    "    fy = 10000\n",
    "    fy_1 = fy*(1+0.05)**11\n",
    "    fy_2 = fy*(1+0.05)**12\n",
    "    fy_3 = fy*(1+0.05)**13\n",
    "    fy_4 = fy*(1+0.05)**14\n",
    "    xf(fy_1,fy_2,fy_3,fy_4)\n",
    "star()"
   ]
  },
  {
   "cell_type": "code",
   "execution_count": 45,
   "metadata": {},
   "outputs": [
    {
     "name": "stdout",
     "output_type": "stream",
     "text": [
      "120 150 180 210 240 270 300 330 360 390  \n",
      "420 450 480 510 540 570 600 630 660 690  \n",
      "720 750 780 810 840 870 900 930 960 990  \n"
     ]
    }
   ],
   "source": [
    "def zheng():\n",
    "    count = 0\n",
    "    for i in range(100,1001):\n",
    "        if i%5 == 0 and i%6 == 0:\n",
    "            count += 1\n",
    "            print(i, end = \" \")\n",
    "            if count%10 ==0:\n",
    "                print(\" \")\n",
    "zheng()"
   ]
  },
  {
   "cell_type": "code",
   "execution_count": 57,
   "metadata": {},
   "outputs": [
    {
     "name": "stdout",
     "output_type": "stream",
     "text": [
      "110\n",
      "23\n"
     ]
    }
   ],
   "source": [
    "def mz(i):\n",
    "    while i**2<=12000:\n",
    "        i +=1\n",
    "    print(i)\n",
    "def xyz(j):\n",
    "    while j**3<=12000:\n",
    "        j +=1\n",
    "    print(j)\n",
    "def star():\n",
    "    i = 100\n",
    "    j = 10\n",
    "    mz(i)\n",
    "    xyz(j)\n",
    "star()"
   ]
  },
  {
   "cell_type": "code",
   "execution_count": 23,
   "metadata": {},
   "outputs": [
    {
     "name": "stdout",
     "output_type": "stream",
     "text": [
      "11.397003949278504\n",
      "11.397003949278519\n"
     ]
    }
   ],
   "source": [
    "#第七题\n",
    "def px():\n",
    "    a = 0\n",
    "    for i in range(1,50001):\n",
    "        a = a+1/i\n",
    "    print(a)\n",
    "def ps():\n",
    "    q=0\n",
    "    for i in range(50000,0,-1):\n",
    "        q=q+1/i\n",
    "    print(q)\n",
    "def star():\n",
    "    px()\n",
    "    ps()\n",
    "#     if a == q:\n",
    "#         print('无差别')\n",
    "#     else:\n",
    "#         print('有差别')\n",
    "    \n",
    "star()\n",
    "    "
   ]
  },
  {
   "cell_type": "code",
   "execution_count": 28,
   "metadata": {},
   "outputs": [
    {
     "name": "stdout",
     "output_type": "stream",
     "text": [
      "45.124450303050196\n"
     ]
    }
   ],
   "source": [
    "#第八题数列求和\n",
    "def fs():\n",
    "    sum = 0\n",
    "    for i in range(1,98,2):\n",
    "#         print(i)\n",
    "        sum += i/(i+2)\n",
    "    print(sum)\n",
    "fs()"
   ]
  },
  {
   "cell_type": "code",
   "execution_count": 40,
   "metadata": {},
   "outputs": [
    {
     "name": "stdout",
     "output_type": "stream",
     "text": [
      "i = 10000 时，π的值为：3.1416926435905435\n",
      "i = 20000 时，π的值为：3.141642651089887\n",
      "i = 30000 时，π的值为：3.1416259858120434\n",
      "i = 40000 时，π的值为：3.141617652964805\n",
      "i = 50000 时，π的值为：3.1416126531897994\n",
      "i = 60000 时，π的值为：3.1416093199786856\n",
      "i = 70000 时，π的值为：3.1416069391\n",
      "i = 80000 时，π的值为：3.1416051534335447\n",
      "i = 90000 时，π的值为：3.141603764577449\n",
      "i = 100000 时，π的值为：3.141602653489794\n"
     ]
    }
   ],
   "source": [
    "#第九题\n",
    "def sl():\n",
    "    for i in range(10000,110000,10000):\n",
    "        print('i =', i, '时，π的值为：', end = '')\n",
    "\n",
    "        sum = 0\n",
    "        for j in range(i+1,0,-1):\n",
    "            sum += ((-1) ** (j + 1)) / (2 * j - 1)\n",
    "        pi = 4*sum\n",
    "        print(pi)\n",
    "#         print(i)\n",
    "        \n",
    "sl()"
   ]
  },
  {
   "cell_type": "code",
   "execution_count": 44,
   "metadata": {},
   "outputs": [
    {
     "name": "stdout",
     "output_type": "stream",
     "text": [
      "6 是完全数\n",
      "28 是完全数\n",
      "496 是完全数\n",
      "8128 是完全数\n"
     ]
    }
   ],
   "source": [
    "#第十题\n",
    "def wqs():\n",
    "    for i in range(1,10001):\n",
    "        a = 0\n",
    "        for j in range(1,i):\n",
    "            if i%j == 0:\n",
    "                a += j\n",
    "        if a == i:\n",
    "            print(i,'是完全数')\n",
    "#         print(i)\n",
    "wqs()"
   ]
  },
  {
   "cell_type": "code",
   "execution_count": 52,
   "metadata": {},
   "outputs": [
    {
     "name": "stdout",
     "output_type": "stream",
     "text": [
      "请输入第一个数：2\n",
      "请输入第二个数：5\n"
     ]
    }
   ],
   "source": [
    "#第十一题组合\n",
    "def zh():\n",
    "    list = [1,2,3,4,5,6,7]\n",
    "    for i in range(5):\n",
    "        num_1 = eval(input('请输入第一个数：'))\n",
    "        num_2 = eval(input('请输入第二个数：'))\n",
    "        if num_1 in list and num_2 in list:\n",
    "            break\n",
    "        else:\n",
    "            print('请输入1-7之间的数字')\n",
    "zh()"
   ]
  },
  {
   "cell_type": "code",
   "execution_count": 61,
   "metadata": {},
   "outputs": [
    {
     "name": "stdout",
     "output_type": "stream",
     "text": [
      "请输入一个数字1.2\n",
      "请输入一个数字3.4\n",
      "请输入一个数字5.9\n",
      "请输入一个数字54.663\n",
      "请输入一个数字17.3\n",
      "请输入一个数字5.1\n",
      "请输入一个数字2\n",
      "请输入一个数字3\n",
      "请输入一个数字4\n",
      "请输入一个数字5\n",
      "均值为： 10.156299999999998 标准方差为 4.280223570960387\n"
     ]
    }
   ],
   "source": [
    "#第十二题\n",
    "def tj():\n",
    "    count = 0\n",
    "    num_1 = 0\n",
    "    s = 0\n",
    "    for i in range(10):\n",
    "        num = eval(input('请输入一个数字'))\n",
    "        num_1 +=num\n",
    "        count +=1\n",
    "        x = num_1/count\n",
    "        s += ((num-x)**2)\n",
    "        S = (s**(1/2))/count\n",
    "    print('均值为：',x,'标准方差为',S)\n",
    "tj()"
   ]
  },
  {
   "cell_type": "code",
   "execution_count": 83,
   "metadata": {},
   "outputs": [
    {
     "name": "stdout",
     "output_type": "stream",
     "text": [
      "邮件地址4798@163.com\n",
      "请输入密码，区分大小写1524798\n",
      "确认密码1524798\n",
      "2079\n",
      "请输入验证码:2079\n",
      "验证码正确\n",
      "恭喜您，已成功注册\n"
     ]
    }
   ],
   "source": [
    "# 网易登陆页面\n",
    "import random\n",
    "user_name = {'152@163.com':123,'1413@163.com':456}\n",
    "for i in range(4):\n",
    "    Email_address = str(input('邮件地址'))\n",
    "    if len(Email_address) != 0 and Email_address not in user_name and '@163.com'in Email_address and len(Email_address)>6 and len(Email_address)<18 :\n",
    "         for j in range(3):\n",
    "            password = str(input('请输入密码，区分大小写'))\n",
    "            password_1 = str(input('确认密码'))\n",
    "            if len(password)>6 and len(password)<16 and password == password_1:\n",
    "                #验证码\n",
    "                #接口类型：互亿无线触发短信接口，支持发送验证码短信、订单通知短信等。\n",
    "                #账户注册：请通过该地址开通账户http://user.ihuyi.com/register.html\n",
    "                #注意事项：\n",
    "                #（1）调试期间，请使用用系统默认的短信内容：您的验证码是：【变量】。请不要把验证码泄露给其他人。\n",
    "                #（2）请使用 APIID 及 APIKEY来调用接口，可在会员中心获取；\n",
    "                #（3）该代码仅供接入互亿无线短信接口参考使用，客户可根据实际需要自行编写；\n",
    "\n",
    "                #!/usr/local/bin/python\n",
    "                #-*- coding:utf-8 -*-\n",
    "                import httplib\n",
    "                import urllib\n",
    "\n",
    "                host  = \"106.ihuyi.com\"\n",
    "                sms_send_uri = \"/webservice/sms.php?method=Submit\"\n",
    "\n",
    "                #查看用户名 登录用户中心->验证码通知短信>产品总览->API接口信息->APIID\n",
    "                account  = \"****\"\n",
    "                #查看密码 登录用户中心->验证码通知短信>产品总览->API接口信息->APIKEY\n",
    "                password = \"*********\"\n",
    "\n",
    "                def send_sms(text, mobile):\n",
    "                    params = urllib.urlencode({'account': account, 'password' : password, 'content': text, 'mobile':mobile,'format':'json' })\n",
    "                    headers = {\"Content-type\": \"application/x-www-form-urlencoded\", \"Accept\": \"text/plain\"}\n",
    "                    conn = httplib.HTTPConnection(host, port=80, timeout=30)\n",
    "                    conn.request(\"POST\", sms_send_uri, params, headers)\n",
    "                    response = conn.getresponse()\n",
    "                    response_str = response.read()\n",
    "                    conn.close()\n",
    "                    return response_str\n",
    "\n",
    "                if __name__ == '__main__':\n",
    "\n",
    "                    mobile = \"15389703640\"\n",
    "                    text = (\"您的验证码是：\",(random.randint(1000,9999))\"。请不要把验证码泄露给其他人\")\n",
    "                    yzm_1 = int(input('请输入验证码:'))\n",
    "                    for a in range(4):\n",
    "                        if yzm == yzm_1:\n",
    "                            print('验证码正确')\n",
    "                            break\n",
    "                        else:\n",
    "                            print('验证码输入有误')\n",
    "                            input('请再次输入')\n",
    "\n",
    "\n",
    "\n",
    "                #     text = \"您的验证码是：121254。请不要把验证码泄露给其他人。\"\n",
    "\n",
    "                    print(send_sms(text, mobile))\n",
    "\n",
    "                \n",
    "                \n",
    "                user_name[Email_address] = password\n",
    "                print('恭喜您，已成功注册')\n",
    "                break\n",
    "            elif len(password)<6 and len(password)>16:\n",
    "                print('请输入6-16个字符')\n",
    "            elif password != password_1:\n",
    "                print('请确认密码')\n",
    "    elif Email_address in user_name:\n",
    "        print('用户已存在')\n",
    "    elif len(Email_address) == 0 :\n",
    "        print('邮件地址不能为空')\n",
    "    elif '@163.com'not in Email_address:\n",
    "        print('请输入正确的格式')\n",
    "    elif len(Email_address)<6 and len(Email_address)>18:\n",
    "        print('请输入6~18个字符，可使用字母、数字、下划线，需以字母开头')\n",
    "    break        \n",
    "            \n",
    "            \n",
    "            \n",
    "            \n",
    "            \n",
    "            \n",
    "#         print(user_name)\n",
    "            \n",
    "    "
   ]
  },
  {
   "cell_type": "code",
   "execution_count": null,
   "metadata": {},
   "outputs": [],
   "source": [
    "import csv\n",
    "import json\n",
    "reader = csv.reader(open(r'C:\\Users\\MacBook\\Desktop\\Hospital_Inpatient_Discharges__SPARCS_De-Identified___2015.csv','r',encoding='utf8'))\n",
    "for line in reader:\n",
    "print(line)"
   ]
  }
 ],
 "metadata": {
  "kernelspec": {
   "display_name": "Python 3",
   "language": "python",
   "name": "python3"
  },
  "language_info": {
   "codemirror_mode": {
    "name": "ipython",
    "version": 3
   },
   "file_extension": ".py",
   "mimetype": "text/x-python",
   "name": "python",
   "nbconvert_exporter": "python",
   "pygments_lexer": "ipython3",
   "version": "3.6.4"
  }
 },
 "nbformat": 4,
 "nbformat_minor": 2
}
