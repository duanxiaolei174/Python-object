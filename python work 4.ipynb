{
 "cells": [
  {
   "cell_type": "code",
   "execution_count": 2,
   "metadata": {},
   "outputs": [
    {
     "name": "stdout",
     "output_type": "stream",
     "text": [
      "0.0 1.0 5.0 12.0 22.0 35.0 51.0 70.0 92.0 117.0 \n",
      "145.0 176.0 210.0 247.0 287.0 330.0 376.0 425.0 477.0 532.0 \n",
      "590.0 651.0 715.0 782.0 852.0 925.0 1001.0 1080.0 1162.0 1247.0 \n",
      "1335.0 1426.0 1520.0 1617.0 1717.0 1820.0 1926.0 2035.0 2147.0 2262.0 \n",
      "2380.0 2501.0 2625.0 2752.0 2882.0 3015.0 3151.0 3290.0 3432.0 3577.0 \n",
      "3725.0 3876.0 4030.0 4187.0 4347.0 4510.0 4676.0 4845.0 5017.0 5192.0 \n",
      "5370.0 5551.0 5735.0 5922.0 6112.0 6305.0 6501.0 6700.0 6902.0 7107.0 \n",
      "7315.0 7526.0 7740.0 7957.0 8177.0 8400.0 8626.0 8855.0 9087.0 9322.0 \n",
      "9560.0 9801.0 10045.0 10292.0 10542.0 10795.0 11051.0 11310.0 11572.0 11837.0 \n",
      "12105.0 12376.0 12650.0 12927.0 13207.0 13490.0 13776.0 14065.0 14357.0 14652.0 \n"
     ]
    }
   ],
   "source": [
    "def getPentagonalNumber():\n",
    "    n = 0\n",
    "    for i in range(1,101):\n",
    "        b = (n*(3*n-1))/2\n",
    "        n += 1\n",
    "        print(b,end = \" \")\n",
    "        if n%10 == 0:\n",
    "            print('')\n",
    "getPentagonalNumber()      \n",
    "    "
   ]
  },
  {
   "cell_type": "code",
   "execution_count": 6,
   "metadata": {},
   "outputs": [
    {
     "name": "stdout",
     "output_type": "stream",
     "text": [
      "输入一个整数145\n",
      "5\n",
      "9\n",
      "10\n"
     ]
    }
   ],
   "source": [
    "def sumDigits(n):\n",
    "    sum = 0\n",
    "    m = str(n)\n",
    "    for i in range(len(m)):\n",
    "        num = n//10**i%10\n",
    "        sum += num\n",
    "        print(sum)\n",
    "def star():\n",
    "    n = eval(input('输入一个整数'))\n",
    "    sumDigits(n)\n",
    "star()"
   ]
  },
  {
   "cell_type": "code",
   "execution_count": 9,
   "metadata": {},
   "outputs": [
    {
     "name": "stdout",
     "output_type": "stream",
     "text": [
      "输入第一个数：1\n",
      "输入第二个数：3\n",
      "输入第三个数：2\n",
      "[1, 2, 3]\n"
     ]
    }
   ],
   "source": [
    "def displaySortedNumbers(num1,num2,num3):\n",
    "    list = []\n",
    "    list.append(num1)\n",
    "    list.append(num2)\n",
    "    list.append(num3)\n",
    "    for i in range(len(list)-1):\n",
    "        for j in range (i+1,len(list)):\n",
    "            if list[i]>list[j]:\n",
    "                t =list[i]\n",
    "                list[i] = list[j]\n",
    "                list[j] = t\n",
    "    print(list)\n",
    "def star():\n",
    "    num1 = eval(input('输入第一个数：'))\n",
    "    num2 = eval(input('输入第二个数：'))\n",
    "    num3 = eval(input('输入第三个数：'))\n",
    "    displaySortedNumbers(num1,num2,num3)\n",
    "star()"
   ]
  },
  {
   "cell_type": "code",
   "execution_count": 14,
   "metadata": {},
   "outputs": [
    {
     "name": "stdout",
     "output_type": "stream",
     "text": [
      "请输入投资额10000\n",
      "年利率0.05\n",
      "10500.0\n",
      "11025.0\n",
      "11576.250000000002\n",
      "12155.062500000002\n",
      "12762.815625000003\n",
      "13400.956406250005\n",
      "14071.004226562505\n",
      "14774.55443789063\n",
      "15513.282159785162\n",
      "16288.94626777442\n",
      "17103.39358116314\n",
      "17958.5632602213\n",
      "18856.491423232368\n",
      "19799.315994393986\n",
      "20789.28179411369\n",
      "21828.74588381937\n",
      "22920.183178010342\n",
      "24066.192336910855\n",
      "25269.501953756404\n",
      "26532.97705144422\n",
      "27859.625904016437\n",
      "29252.60719921726\n",
      "30715.237559178124\n",
      "32250.99943713703\n",
      "33863.54940899389\n",
      "35556.72687944358\n",
      "37334.56322341576\n",
      "39201.29138458655\n",
      "41161.35595381588\n"
     ]
    }
   ],
   "source": [
    "def fetureInvestmentValue(investmentAmount,monthlyInterestRate):\n",
    "    for i in range(1,30):\n",
    "        money = investmentAmount*(1+monthlyInterestRate)**i\n",
    "        print(money)\n",
    "def star():\n",
    "    investmentAmount = eval(input('请输入投资额'))\n",
    "    monthlyInterestRate = eval(input('年利率'))\n",
    "#     years = eval(input('年份'))\n",
    "    fetureInvestmentValue(investmentAmount,monthlyInterestRate)\n",
    "star()"
   ]
  },
  {
   "cell_type": "code",
   "execution_count": 18,
   "metadata": {},
   "outputs": [
    {
     "name": "stdout",
     "output_type": "stream",
     "text": [
      "A B C D E F G H I J \n",
      "K L M N O P Q R S T \n",
      "U V W X Y Z "
     ]
    }
   ],
   "source": [
    "def printChars(ch1,ch2):\n",
    "    count = 0\n",
    "    for i in range(ch1,ch2):\n",
    "        count +=1\n",
    "        print(chr(i),end = \" \")\n",
    "        if count%10 == 0:\n",
    "            print('')\n",
    "def star():\n",
    "    ch1 = 65\n",
    "    ch2 = 91\n",
    "    printChars(ch1,ch2)\n",
    "star()"
   ]
  },
  {
   "cell_type": "code",
   "execution_count": 24,
   "metadata": {},
   "outputs": [
    {
     "name": "stdout",
     "output_type": "stream",
     "text": [
      "2010 年是平年\n",
      "2011 年是平年\n",
      "2012 年是闰年\n",
      "2013 年是平年\n",
      "2014 年是平年\n",
      "2015 年是平年\n",
      "2016 年是闰年\n",
      "2017 年是平年\n",
      "2018 年是平年\n",
      "2019 年是平年\n"
     ]
    }
   ],
   "source": [
    "def numberOfDaysInAYear():\n",
    "    for i in range(2010,2020):\n",
    "        a = (i%4 == 0 or i%100 != 0 and i%400 ==0)\n",
    "        if a != 0:\n",
    "            print(i,'年是闰年')\n",
    "        else:\n",
    "            print(i,'年是平年')\n",
    "numberOfDaysInAYear()"
   ]
  },
  {
   "cell_type": "code",
   "execution_count": 35,
   "metadata": {},
   "outputs": [
    {
     "name": "stdout",
     "output_type": "stream",
     "text": [
      "输入一个数12,13,14,15\n",
      "俩点之间的距离是 2.8284271247461903\n"
     ]
    }
   ],
   "source": [
    "def distance(x1,y1,x2,y2):\n",
    "    dis = ((x1-x2)**2+(y1-y2)**2)**0.5\n",
    "    print('俩点之间的距离是',dis)\n",
    "def star():\n",
    "#     x1 = eval(input('输入一个数'))\n",
    "#     y1 = eval(input('输入一个数'))\n",
    "#     x2 = eval(input('输入一个数'))\n",
    "#     y2 = eval(input('输入一个数'))\n",
    "    x1,y1,x2,y2 = map(float,input('输入一个数').split(','))\n",
    "    distance(x1,y1,x2,y2)\n",
    "star()"
   ]
  },
  {
   "cell_type": "code",
   "execution_count": null,
   "metadata": {},
   "outputs": [],
   "source": [
    "def mss():\n",
    "    list = []\n",
    "    for i in(1,31):\n",
    "        b = 2**(i-1)\n",
    "        print(b)\n",
    "        list.append(b)"
   ]
  },
  {
   "cell_type": "code",
   "execution_count": 11,
   "metadata": {},
   "outputs": [
    {
     "name": "stdout",
     "output_type": "stream",
     "text": [
      "5\n",
      "6\n",
      "you win\n"
     ]
    }
   ],
   "source": [
    "import random\n",
    "\n",
    "def sz(x,y):\n",
    "    if x + y == 2 or x + y == 3 or x + y == 12:\n",
    "        print('you lose')\n",
    "    elif x + y ==7 or x + y ==11:\n",
    "        print('you win')\n",
    "    else:\n",
    "#         print(x)\n",
    "        for i in range(10):\n",
    "            x_1 = random.randint(1,6)\n",
    "            print(x_1)\n",
    "            y_1 = random.randint(1,6)\n",
    "            print(y_1)\n",
    "            if x_1 + y_1 == 7 :\n",
    "                print('you lose')\n",
    "            elif x + y == x_1 + y_1:\n",
    "                print('you win')\n",
    "def star():\n",
    "    x = random.randint(1,6)\n",
    "    print(x)\n",
    "    y = random.randint(1,6)\n",
    "    print(y)\n",
    "    sz(x,y)\n",
    "star()"
   ]
  },
  {
   "cell_type": "code",
   "execution_count": 19,
   "metadata": {},
   "outputs": [
    {
     "data": {
      "text/plain": [
       "6"
      ]
     },
     "execution_count": 19,
     "metadata": {},
     "output_type": "execute_result"
    }
   ],
   "source": [
    "class Rectangle(object):\n",
    "    def __init__(self,width,height):\n",
    "        self.width = width\n",
    "        self.height = height\n",
    "    def getArea(self):\n",
    "        S = self.width*self.height\n",
    "        return S\n",
    "    def getperimeter(self):\n",
    "        C = (self.width+self.height)*2\n",
    "        return C\n",
    "# if __name__ == \"__main__\":\n",
    "R = Rectangle(1,2)\n",
    "R.getArea()\n",
    "R.getperimeter()"
   ]
  },
  {
   "cell_type": "code",
   "execution_count": null,
   "metadata": {},
   "outputs": [],
   "source": []
  }
 ],
 "metadata": {
  "kernelspec": {
   "display_name": "Python 3",
   "language": "python",
   "name": "python3"
  },
  "language_info": {
   "codemirror_mode": {
    "name": "ipython",
    "version": 3
   },
   "file_extension": ".py",
   "mimetype": "text/x-python",
   "name": "python",
   "nbconvert_exporter": "python",
   "pygments_lexer": "ipython3",
   "version": "3.6.4"
  }
 },
 "nbformat": 4,
 "nbformat_minor": 2
}
